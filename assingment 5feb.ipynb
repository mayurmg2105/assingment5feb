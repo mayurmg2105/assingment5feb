{
 "cells": [
  {
   "cell_type": "code",
   "execution_count": 1,
   "id": "d5642334-54e7-464e-b463-69a729e5b361",
   "metadata": {},
   "outputs": [],
   "source": [
    "#Q1. Explain Class and Object with respect to Object-Oriented Programming. Give a suitable example."
   ]
  },
  {
   "cell_type": "code",
   "execution_count": null,
   "id": "df7b55bd-711a-4633-936d-b571ab894dd5",
   "metadata": {},
   "outputs": [],
   "source": [
    "#Answer\n",
    "#Class is a blueprint or a template for creating objects (instances of a class). It defines a set of attributes (properties) \n",
    "#and behaviors (methods) that are common to all objects of that class. In object-oriented programming, \n",
    "#a class encapsulates the data and the functions that operate on that data.\n",
    "\n",
    "#An Object, on the other hand, is an instance of a class. It represents a specific entity with its own property \n",
    "#values and methods. Objects are instances of classes, created at runtime."
   ]
  },
  {
   "cell_type": "code",
   "execution_count": null,
   "id": "15b6ebe9-b265-4bd9-9e71-b687217c8f95",
   "metadata": {},
   "outputs": [],
   "source": [
    "for example"
   ]
  },
  {
   "cell_type": "code",
   "execution_count": 2,
   "id": "eb6affed-15c5-4674-8735-e58586b86e90",
   "metadata": {},
   "outputs": [
    {
     "data": {
      "text/plain": [
       "(9189181918, 'a@gmail.com', 213)"
      ]
     },
     "execution_count": 2,
     "metadata": {},
     "output_type": "execute_result"
    }
   ],
   "source": [
    "# Here pwskills is class \n",
    "\n",
    "\n",
    "class pwskills :\n",
    "    def __init__(self,phone_number , email_id , student_id):\n",
    "        self.phone_number=phone_number \n",
    "        self.email_id=email_id\n",
    "        self.student_id=student_id\n",
    "        \n",
    "    def student_details(self):\n",
    "        return self.phone_number,self.email_id,self.student_id\n",
    "    \n",
    "a=pwskills(9189181918,\"a@gmail.com\",213)\n",
    "a.student_details()\n",
    "\n",
    "# And a is object"
   ]
  },
  {
   "cell_type": "code",
   "execution_count": 3,
   "id": "597daccd-1ba9-4a90-a729-fb32c86c899c",
   "metadata": {},
   "outputs": [],
   "source": [
    "#Q2. Name the four pillars of OOPs."
   ]
  },
  {
   "cell_type": "code",
   "execution_count": null,
   "id": "29e1ecae-773a-4551-a01a-3973bef56ef6",
   "metadata": {},
   "outputs": [],
   "source": [
    "#Answer\n",
    "#Abstraction: This refers to the process of hiding the implementation details of an object and exposing only the necessary \n",
    "#information to the users.\n",
    "\n",
    "#Encapsulation: This refers to the wrapping of data (properties) and functions (methods) into a single unit or object.\n",
    "#It ensures that the internal representation of an object is hidden from the outside world and can only be accessed through\n",
    "#a well-defined interface.\n",
    "\n",
    "#Inheritance: This refers to the ability of a new class to inherit the properties and behaviors of an existing class.\n",
    "#The new class is called a subclass or derived class, and the existing class is called a superclass or base class.\n",
    "\n",
    "#Polymorphism: This refers to the ability of objects to take on multiple forms. In OOP, polymorphism is achieved through \n",
    "#method overriding and method overloading. It allows objects of different classes to be treated as objects of the same class,\n",
    "#enabling code reusability and making the code more flexible and easier to maintain."
   ]
  },
  {
   "cell_type": "code",
   "execution_count": null,
   "id": "371386fe-cf81-4e5c-a940-b1aa1d4460cb",
   "metadata": {},
   "outputs": [],
   "source": [
    "#Q3. Explain why the __init__() function is used. Give a suitable example."
   ]
  },
  {
   "cell_type": "code",
   "execution_count": null,
   "id": "34fd10ba-3f9a-4111-b30c-4bdf8f27719c",
   "metadata": {},
   "outputs": [],
   "source": [
    "#Answer\n",
    "#The init() function is a special method in Python classes, also known as the constructor method. It is automatically called \n",
    "#when an object of the class is created. The primary purpose of the init() function is to initialize the object's attributes\n",
    "#or properties with the values passed as arguments when the object is created."
   ]
  },
  {
   "cell_type": "code",
   "execution_count": null,
   "id": "4108c92f-6c61-4d94-a09b-1e162c286dcf",
   "metadata": {},
   "outputs": [],
   "source": [
    "example"
   ]
  },
  {
   "cell_type": "code",
   "execution_count": 4,
   "id": "245341d1-329c-411f-828a-979ef9876269",
   "metadata": {},
   "outputs": [
    {
     "data": {
      "text/plain": [
       "('apple', 99000, '64gb')"
      ]
     },
     "execution_count": 4,
     "metadata": {},
     "output_type": "execute_result"
    }
   ],
   "source": [
    "class laptop :\n",
    "    def __init__(self,brand,price,storage):\n",
    "        self.brand=brand\n",
    "        self.price=price\n",
    "        self.storage=storage\n",
    "        \n",
    "    def laptop_details(self):\n",
    "        return self.brand , self.price , self.storage \n",
    "\n",
    "    \n",
    "    \n",
    "p1=laptop(\"apple\",99000,\"64gb\")\n",
    "    \n",
    "p1.laptop_details()"
   ]
  },
  {
   "cell_type": "code",
   "execution_count": null,
   "id": "2674b69c-c388-4ef1-beb5-b98b5e77bccd",
   "metadata": {},
   "outputs": [],
   "source": [
    "#Q4. Why self is used in OOPs?"
   ]
  },
  {
   "cell_type": "code",
   "execution_count": null,
   "id": "d081ff52-f546-4c28-b5bc-7722f53a7f8d",
   "metadata": {},
   "outputs": [],
   "source": [
    "#Answewr\n",
    "#self represents the instance of the class. By using the “self” we can access the attributes and methods of the class in python. \n",
    "#It binds the attributes with the given arguments."
   ]
  },
  {
   "cell_type": "code",
   "execution_count": null,
   "id": "a941eef8-985f-4c33-b3f1-1c73af53998f",
   "metadata": {},
   "outputs": [],
   "source": [
    "for example"
   ]
  },
  {
   "cell_type": "code",
   "execution_count": 5,
   "id": "d4d76516-ab7b-463c-96f0-81310a863ea9",
   "metadata": {},
   "outputs": [
    {
     "data": {
      "text/plain": [
       "('samsung', 22000, '48mp')"
      ]
     },
     "execution_count": 5,
     "metadata": {},
     "output_type": "execute_result"
    }
   ],
   "source": [
    "class mobile_phones :\n",
    "    def __init__(self,brand,price,camera):\n",
    "        self.brand=brand\n",
    "        self.price=price\n",
    "        self.camera=camera\n",
    "        \n",
    "    def mobile_details(self):\n",
    "        return self.brand , self.price , self.camera\n",
    "    \n",
    "a=mobile_phones(\"samsung\",22000,\"48mp\")\n",
    "a.mobile_details()"
   ]
  },
  {
   "cell_type": "code",
   "execution_count": null,
   "id": "f0b5998f-95f7-470e-aa2a-52bb74d20ea9",
   "metadata": {},
   "outputs": [],
   "source": [
    "#Q5. What is inheritance? Give an example for each type of inheritance."
   ]
  },
  {
   "cell_type": "code",
   "execution_count": null,
   "id": "4c7b5999-0267-41c8-b0f4-caccf5e3ab10",
   "metadata": {},
   "outputs": [],
   "source": [
    "#Answer\n",
    "#The new class inherits the attributes and behaviors of the existing class, and can also add its\n",
    "#own unique attributes and behaviors."
   ]
  },
  {
   "cell_type": "code",
   "execution_count": 6,
   "id": "1f31af4e-509a-447c-9138-4dcabd5417d4",
   "metadata": {},
   "outputs": [
    {
     "name": "stdout",
     "output_type": "stream",
     "text": [
      "Amazon is an Online Ecommerce Store\n",
      "Ebay is an Online Store\n",
      "OLX is an Online Buy Sell Store\n"
     ]
    }
   ],
   "source": [
    "### 1. Single Inheritance : When child class is derived from only one parent class. This is called single inheritance\n",
    "\n",
    "# Single Inheritance Example\n",
    "class Brands:               #parent_class\n",
    "    brand_name_1 = \"Amazon\"\n",
    "    brand_name_2 = \"Ebay\"\n",
    "    brand_name_3 = \"OLX\"\n",
    "    \n",
    "class Products(Brands):       #child_class\n",
    "    prod_1 = \"Online Ecommerce Store\"\n",
    "    prod_2 = \"Online Store\"\n",
    "    prod_3 = \"Online Buy Sell Store\"\n",
    "    \n",
    "obj_1 = Products()          #Object_creation\n",
    "print(obj_1.brand_name_1+\" is an \"+obj_1.prod_1)\n",
    "print(obj_1.brand_name_2+\" is an \"+obj_1.prod_2)\n",
    "print(obj_1.brand_name_3+\" is an \"+obj_1.prod_3)"
   ]
  },
  {
   "cell_type": "code",
   "execution_count": 7,
   "id": "dfa6b30e-3b1e-4b65-8a27-bc22b615e0ae",
   "metadata": {},
   "outputs": [
    {
     "name": "stdout",
     "output_type": "stream",
     "text": [
      "Amazon is an Online Ecommerce Store with popularity = 100\n",
      "Ebay is an Online Store with popularity = 70\n",
      "OLX is an Online Buy Sell Store with popularity = 60\n"
     ]
    }
   ],
   "source": [
    "### 2. Multiple Inheritance: When child class is derived or inherited from more than one parent class. This is called multiple inheritance. In multiple inheritance, we have two parent classes/base classes and one child class that inherits both parent classes properties.\n",
    "\n",
    "\n",
    "#example_of_multiple_inheritance\n",
    "\n",
    "class Brands:               #parent_class_1\n",
    "    brand_name_1 = \"Amazon\"\n",
    "    brand_name_2 = \"Ebay\"\n",
    "    brand_name_3 = \"OLX\"\n",
    "    \n",
    "class Products:             #parent_class_2\n",
    "    prod_1 = \"Online Ecommerce Store\"\n",
    "    prod_2 = \"Online Store\"\n",
    "    prod_3 = \"Online Buy Sell Store\"\n",
    "\n",
    "class Popularity(Brands,Products): #child class created from parent class 1 and parent class 2\n",
    "    prod_1_popularity = 100\n",
    "    prod_2_popularity = 70\n",
    "    prod_3_popularity = 60\n",
    "    \n",
    "obj_1 = Popularity()          #Object_creation\n",
    "print(obj_1.brand_name_1+\" is an \"+obj_1.prod_1 +\" with popularity = \"+str(obj_1.prod_1_popularity))\n",
    "print(obj_1.brand_name_2+\" is an \"+obj_1.prod_2 +\" with popularity = \"+str(obj_1.prod_2_popularity))\n",
    "print(obj_1.brand_name_3+\" is an \"+obj_1.prod_3 +\" with popularity = \"+str(obj_1.prod_3_popularity))"
   ]
  },
  {
   "cell_type": "code",
   "execution_count": 8,
   "id": "a8021336-1057-4bb3-a910-af916d79e582",
   "metadata": {},
   "outputs": [
    {
     "name": "stdout",
     "output_type": "stream",
     "text": [
      "Amazon is an Online Ecommerce Store popularity of 100\n",
      "Ebay is an Online Store popularity of 70\n",
      "OLX is an Online Buy Sell Store popularity of 60\n"
     ]
    }
   ],
   "source": [
    "### 3. Multilevel Inheritance: In multilevel inheritance, we have one parent class and child class that is derived or inherited from that parent class. We have a grand-child class that is derived from the child class.\n",
    "\n",
    "#example_of_multilevel_inheritance\n",
    "\n",
    "class Brands:                      #parent_class\n",
    "    brand_name_1 = \"Amazon\"\n",
    "    brand_name_2 = \"Ebay\"\n",
    "    brand_name_3 = \"OLX\"\n",
    "    \n",
    "class Products(Brands):            #child_class\n",
    "    prod_1 = \"Online Ecommerce Store\"\n",
    "    prod_2 = \"Online Store\"\n",
    "    prod_3 = \"Online Buy Sell Store\"\n",
    "\n",
    "class Popularity(Products):        #grand_child_class\n",
    "    prod_1_popularity = 100\n",
    "    prod_2_popularity = 70\n",
    "    prod_3_popularity = 60\n",
    "    \n",
    "    \n",
    "obj_1 = Popularity()          #Object_creation\n",
    "print(obj_1.brand_name_1+\" is an \"+obj_1.prod_1+\" popularity of \"+str(obj_1.prod_1_popularity))\n",
    "print(obj_1.brand_name_2+\" is an \"+obj_1.prod_2+\" popularity of \"+str(obj_1.prod_2_popularity))\n",
    "print(obj_1.brand_name_3+\" is an \"+obj_1.prod_3+\" popularity of \"+str(obj_1.prod_3_popularity))"
   ]
  },
  {
   "cell_type": "code",
   "execution_count": null,
   "id": "7bacc0d5-c440-4212-b4cf-c2120b8a859e",
   "metadata": {},
   "outputs": [],
   "source": []
  }
 ],
 "metadata": {
  "kernelspec": {
   "display_name": "Python 3 (ipykernel)",
   "language": "python",
   "name": "python3"
  },
  "language_info": {
   "codemirror_mode": {
    "name": "ipython",
    "version": 3
   },
   "file_extension": ".py",
   "mimetype": "text/x-python",
   "name": "python",
   "nbconvert_exporter": "python",
   "pygments_lexer": "ipython3",
   "version": "3.10.8"
  }
 },
 "nbformat": 4,
 "nbformat_minor": 5
}
